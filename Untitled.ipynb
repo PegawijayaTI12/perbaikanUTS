{
 "cells": [
  {
   "cell_type": "code",
   "execution_count": 1,
   "metadata": {},
   "outputs": [
    {
     "name": "stdout",
     "output_type": "stream",
     "text": [
      "Masukan Email ; pegawijayaa@gmail.com\n",
      "True\n"
     ]
    }
   ],
   "source": [
    "#1\n",
    "email = input(\"Masukan Email ; \")\n",
    "pos_at = 0\n",
    "pos_titik = 0\n",
    "pos_at = email.find('@')\n",
    "pos_titik = email.find('.')\n",
    "print(pos_at < pos_titik )"
   ]
  },
  {
   "cell_type": "code",
   "execution_count": 2,
   "metadata": {},
   "outputs": [
    {
     "name": "stdout",
     "output_type": "stream",
     "text": [
      "masukan kalimat: Belajar pemrograman python sangat menyenangkan\n",
      "B3l4j4r p3mrogr4m4n python s4ng4t m3ny3n4ngk4n\n"
     ]
    }
   ],
   "source": [
    "kalimat = input(\"masukan kalimat: \")\n",
    "i = 0 \n",
    "kata = ''\n",
    "for i in range (len(kalimat)):\n",
    "    if kalimat[i] == \"a\" or kalimat [i] == \"A\":\n",
    "        kata = kata + \"4\"\n",
    "    elif kalimat[i] == \"e\" or kalimat [i] == \"E\":\n",
    "        kata = kata + \"3\"\n",
    "    elif kalimat[i] == \"L\" :\n",
    "        kata = kata + \"7\"\n",
    "    elif kalimat[i] == \"S\" :\n",
    "        kata = kata + \"5\"\n",
    "    else:\n",
    "        kata = kata + kalimat[i]\n",
    "print(kata)"
   ]
  },
  {
   "cell_type": "code",
   "execution_count": null,
   "metadata": {},
   "outputs": [],
   "source": []
  }
 ],
 "metadata": {
  "kernelspec": {
   "display_name": "Python 3",
   "language": "python",
   "name": "python3"
  },
  "language_info": {
   "codemirror_mode": {
    "name": "ipython",
    "version": 3
   },
   "file_extension": ".py",
   "mimetype": "text/x-python",
   "name": "python",
   "nbconvert_exporter": "python",
   "pygments_lexer": "ipython3",
   "version": "3.8.5"
  }
 },
 "nbformat": 4,
 "nbformat_minor": 4
}
